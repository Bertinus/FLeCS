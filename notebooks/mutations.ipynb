{
 "cells": [
  {
   "cell_type": "code",
   "execution_count": 1,
   "id": "3986e11d",
   "metadata": {},
   "outputs": [
    {
     "ename": "ImportError",
     "evalue": "cannot import name 'BernoulliMutation' from 'flecs.mutation' (/home/jdv/code/flecs/flecs/mutation.py)",
     "output_type": "error",
     "traceback": [
      "\u001b[0;31m---------------------------------------------------------------------------\u001b[0m",
      "\u001b[0;31mImportError\u001b[0m                               Traceback (most recent call last)",
      "Cell \u001b[0;32mIn [1], line 6\u001b[0m\n\u001b[1;32m      3\u001b[0m \u001b[38;5;28;01mimport\u001b[39;00m \u001b[38;5;21;01mmatplotlib\u001b[39;00m\u001b[38;5;21;01m.\u001b[39;00m\u001b[38;5;21;01mpyplot\u001b[39;00m \u001b[38;5;28;01mas\u001b[39;00m \u001b[38;5;21;01mplt\u001b[39;00m\n\u001b[1;32m      5\u001b[0m \u001b[38;5;28;01mfrom\u001b[39;00m \u001b[38;5;21;01mflecs\u001b[39;00m\u001b[38;5;21;01m.\u001b[39;00m\u001b[38;5;21;01mcell_population\u001b[39;00m \u001b[38;5;28;01mimport\u001b[39;00m TestCellPop\n\u001b[0;32m----> 6\u001b[0m \u001b[38;5;28;01mfrom\u001b[39;00m \u001b[38;5;21;01mflecs\u001b[39;00m\u001b[38;5;21;01m.\u001b[39;00m\u001b[38;5;21;01mmutation\u001b[39;00m \u001b[38;5;28;01mimport\u001b[39;00m BernoulliMutation, GaussianMutation\n\u001b[1;32m      7\u001b[0m \u001b[38;5;28;01mfrom\u001b[39;00m \u001b[38;5;21;01mflecs\u001b[39;00m\u001b[38;5;21;01m.\u001b[39;00m\u001b[38;5;21;01mtrajectory\u001b[39;00m \u001b[38;5;28;01mimport\u001b[39;00m simulate_deterministic_trajectory\n\u001b[1;32m      8\u001b[0m \u001b[38;5;28;01mfrom\u001b[39;00m \u001b[38;5;21;01mflecs\u001b[39;00m\u001b[38;5;21;01m.\u001b[39;00m\u001b[38;5;21;01mutils\u001b[39;00m \u001b[38;5;28;01mimport\u001b[39;00m plot_trajectory, set_seed\n",
      "\u001b[0;31mImportError\u001b[0m: cannot import name 'BernoulliMutation' from 'flecs.mutation' (/home/jdv/code/flecs/flecs/mutation.py)"
     ]
    }
   ],
   "source": [
    "import pytest\n",
    "import torch\n",
    "import matplotlib.pyplot as plt\n",
    "\n",
    "from flecs.cell_population import TestCellPop\n",
    "from flecs.mutation import BernoulliMutation, GaussianMutation\n",
    "from flecs.trajectory import simulate_deterministic_trajectory\n",
    "from flecs.utils import plot_trajectory, set_seed\n",
    "\n",
    "def test_mutations():\n",
    "    my_cells = TestCellPop(n_cells=3)\n",
    "    set_seed(0)\n",
    "\n",
    "    # apply_bernoulli_mutation(cell_pop[\"gene\"], \"alpha\", p=0.5, n_cells=3)\n",
    "\n",
    "    # apply_gaussian_mutation(cell_pop['gene', 'activation', 'gene'], \"weights\", sigma=1., n_cells=3)\n",
    "\n",
    "    # Simulate trajectory\n",
    "    cell_traj = simulate_deterministic_trajectory(cell_pop, torch.linspace(0, 1, 100))\n",
    "\n",
    "    plot_trajectory(cell_traj[:, 0], legend=False)\n",
    "    plt.show()\n",
    "\n",
    "    plot_trajectory(cell_traj[:, 1], legend=False)\n",
    "    plt.show()\n",
    "\n",
    "    plot_trajectory(cell_traj[:, 2], legend=False)\n",
    "    plt.show()\n"
   ]
  },
  {
   "cell_type": "code",
   "execution_count": null,
   "id": "f0c9a54f",
   "metadata": {},
   "outputs": [],
   "source": []
  }
 ],
 "metadata": {
  "kernelspec": {
   "display_name": "Python 3 (ipykernel)",
   "language": "python",
   "name": "python3"
  },
  "language_info": {
   "codemirror_mode": {
    "name": "ipython",
    "version": 3
   },
   "file_extension": ".py",
   "mimetype": "text/x-python",
   "name": "python",
   "nbconvert_exporter": "python",
   "pygments_lexer": "ipython3",
   "version": "3.10.6"
  }
 },
 "nbformat": 4,
 "nbformat_minor": 5
}
