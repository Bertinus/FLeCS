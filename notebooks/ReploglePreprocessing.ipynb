{
 "cells": [
  {
   "cell_type": "code",
   "execution_count": 1,
   "id": "eb016701",
   "metadata": {},
   "outputs": [],
   "source": [
    "import scanpy as sc\n",
    "import numpy as np\n",
    "import pandas as pd\n",
    "from flecs.utils import get_project_root\n",
    "from flecs.data.utils import load_interaction_data\n",
    "import os"
   ]
  },
  {
   "cell_type": "markdown",
   "id": "5434f923",
   "metadata": {},
   "source": [
    "## Load original data"
   ]
  },
  {
   "cell_type": "code",
   "execution_count": 34,
   "id": "f256ce45",
   "metadata": {},
   "outputs": [],
   "source": [
    "adata = sc.read_h5ad(os.path.join(get_project_root(), \n",
    "                                     \"datasets/PerturbSeq/\"\n",
    "                                     \"K562_gwps_raw_singlecell_01.h5ad\"), \n",
    "                     backed=\"r\")"
   ]
  },
  {
   "cell_type": "code",
   "execution_count": 35,
   "id": "0650c774",
   "metadata": {},
   "outputs": [
    {
     "data": {
      "text/plain": [
       "AnnData object with n_obs × n_vars = 1989578 × 8248 backed at '/Users/paul/PycharmProjects/FLeCS/datasets/PerturbSeq/K562_gwps_raw_singlecell_01.h5ad'\n",
       "    obs: 'gem_group', 'gene', 'gene_id', 'transcript', 'gene_transcript', 'sgID_AB', 'mitopercent', 'UMI_count', 'z_gemgroup_UMI', 'core_scale_factor', 'core_adjusted_UMI_count'\n",
       "    var: 'gene_name', 'chr', 'start', 'end', 'class', 'strand', 'length', 'in_matrix', 'mean', 'std', 'cv', 'fano'"
      ]
     },
     "execution_count": 35,
     "metadata": {},
     "output_type": "execute_result"
    }
   ],
   "source": [
    "adata"
   ]
  },
  {
   "cell_type": "markdown",
   "id": "d29d2f65",
   "metadata": {},
   "source": [
    "## Restrict to a few perturbations"
   ]
  },
  {
   "cell_type": "code",
   "execution_count": 36,
   "id": "406072ad",
   "metadata": {},
   "outputs": [],
   "source": [
    "# We restrict ourselves to KO that targetted two promoters\n",
    "adata_p1p2 = adata[adata.obs[\"transcript\"].apply(lambda t: t==\"P1P2\" or t==\"non-targeting\")]"
   ]
  },
  {
   "cell_type": "code",
   "execution_count": 37,
   "id": "692a0a44",
   "metadata": {},
   "outputs": [],
   "source": [
    "# We focus on genes for which at least 1000 cells have been KO\n",
    "v_counts = adata_p1p2.obs[\"gene\"].value_counts()\n",
    "important_KO_genes = list(v_counts[v_counts>600].index)\n",
    "important_KO_genes.remove('non-targeting')"
   ]
  },
  {
   "cell_type": "code",
   "execution_count": 38,
   "id": "5c1c7c73",
   "metadata": {},
   "outputs": [
    {
     "name": "stdout",
     "output_type": "stream",
     "text": [
      "34\n"
     ]
    }
   ],
   "source": [
    "print(len(important_KO_genes))"
   ]
  },
  {
   "cell_type": "code",
   "execution_count": 39,
   "id": "57b1e62f",
   "metadata": {},
   "outputs": [],
   "source": [
    "# We keep just 10% of observational data\n",
    "indices_to_keep = (adata.obs[\"gene\"].apply(lambda g: g=='non-targeting') \\\n",
    "                   & (np.random.uniform(size=len(adata)) > 0.9))\n",
    "\n",
    "for gene in important_KO_genes:\n",
    "    indices_to_keep = indices_to_keep | adata.obs[\"gene\"].apply(lambda g: g==gene)    "
   ]
  },
  {
   "cell_type": "code",
   "execution_count": 40,
   "id": "a8015333",
   "metadata": {},
   "outputs": [],
   "source": [
    "adata_subset = adata[indices_to_keep].to_memory()"
   ]
  },
  {
   "cell_type": "markdown",
   "id": "6f8bf161",
   "metadata": {},
   "source": [
    "## Rename variables"
   ]
  },
  {
   "cell_type": "code",
   "execution_count": 41,
   "id": "dcc5fd2b",
   "metadata": {},
   "outputs": [
    {
     "data": {
      "text/plain": [
       "HSPA14    2\n",
       "TBCE      2\n",
       "PUS7L     1\n",
       "PUM3      1\n",
       "PURA      1\n",
       "         ..\n",
       "GNA13     1\n",
       "GNA12     1\n",
       "GNA11     1\n",
       "GMPS      1\n",
       "ZZEF1     1\n",
       "Name: gene_name, Length: 8246, dtype: int64"
      ]
     },
     "execution_count": 41,
     "metadata": {},
     "output_type": "execute_result"
    }
   ],
   "source": [
    "adata_subset.var[\"gene_name\"].value_counts()"
   ]
  },
  {
   "cell_type": "code",
   "execution_count": 42,
   "id": "87f1de78",
   "metadata": {},
   "outputs": [],
   "source": [
    "# Let us remove duplicated genes from variables\n",
    "HSPA14_index_0 = adata_subset.var[adata_subset.var[\"gene_name\"] == \"HSPA14\"].index[0]\n",
    "TBCE_index_0 = adata_subset.var[adata_subset.var[\"gene_name\"] == \"TBCE\"].index[0]"
   ]
  },
  {
   "cell_type": "code",
   "execution_count": 43,
   "id": "e63e6bb1",
   "metadata": {},
   "outputs": [],
   "source": [
    "# Remove duplicated gene names\n",
    "var_names = list(adata_subset.var_names)\n",
    "var_names.remove(HSPA14_index_0)\n",
    "var_names.remove(TBCE_index_0)\n",
    "adata_subset = adata_subset[:, var_names]"
   ]
  },
  {
   "cell_type": "code",
   "execution_count": 44,
   "id": "6657b08d",
   "metadata": {},
   "outputs": [
    {
     "data": {
      "text/plain": [
       "View of AnnData object with n_obs × n_vars = 36013 × 8246\n",
       "    obs: 'gem_group', 'gene', 'gene_id', 'transcript', 'gene_transcript', 'sgID_AB', 'mitopercent', 'UMI_count', 'z_gemgroup_UMI', 'core_scale_factor', 'core_adjusted_UMI_count'\n",
       "    var: 'gene_name', 'chr', 'start', 'end', 'class', 'strand', 'length', 'in_matrix', 'mean', 'std', 'cv', 'fano'"
      ]
     },
     "execution_count": 44,
     "metadata": {},
     "output_type": "execute_result"
    }
   ],
   "source": [
    "adata_subset"
   ]
  },
  {
   "cell_type": "code",
   "execution_count": 45,
   "id": "5000c769",
   "metadata": {},
   "outputs": [],
   "source": [
    "adata_subset.var.set_index(adata_subset.var[\"gene_name\"].astype('object'), inplace=True)"
   ]
  },
  {
   "cell_type": "markdown",
   "id": "4590d466",
   "metadata": {},
   "source": [
    "## Load K562 GRN"
   ]
  },
  {
   "cell_type": "code",
   "execution_count": 46,
   "id": "b63a8c63",
   "metadata": {},
   "outputs": [],
   "source": [
    "grn = load_interaction_data(interaction_type=\"fantom5\", realnet_tissue_type_file=\"15_myeloid_leukemia.txt.gz\")"
   ]
  },
  {
   "cell_type": "code",
   "execution_count": 47,
   "id": "157e6c7c",
   "metadata": {},
   "outputs": [
    {
     "data": {
      "text/plain": [
       "InteractionData. 14969 nodes and 2238288 edges.\n",
       "2 different types of nodes: ['TF_gene', 'gene'].\n",
       "2 different types of edges: [('TF_gene', '', 'gene'), ('TF_gene', '', 'TF_gene')]."
      ]
     },
     "execution_count": 47,
     "metadata": {},
     "output_type": "execute_result"
    }
   ],
   "source": [
    "grn"
   ]
  },
  {
   "cell_type": "code",
   "execution_count": 48,
   "id": "cdc5299f",
   "metadata": {},
   "outputs": [],
   "source": [
    "node_names = [v['name'] for v in grn.node_data().values()]"
   ]
  },
  {
   "cell_type": "code",
   "execution_count": 49,
   "id": "d8e09409",
   "metadata": {},
   "outputs": [
    {
     "data": {
      "text/plain": [
       "14969"
      ]
     },
     "execution_count": 49,
     "metadata": {},
     "output_type": "execute_result"
    }
   ],
   "source": [
    "len(node_names)"
   ]
  },
  {
   "cell_type": "code",
   "execution_count": 50,
   "id": "230646e1",
   "metadata": {},
   "outputs": [
    {
     "data": {
      "text/plain": [
       "14969"
      ]
     },
     "execution_count": 50,
     "metadata": {},
     "output_type": "execute_result"
    }
   ],
   "source": [
    "len(np.unique(node_names))"
   ]
  },
  {
   "cell_type": "markdown",
   "id": "77db1cfd",
   "metadata": {},
   "source": [
    "## Map GRN gene names to the variable names in the adata"
   ]
  },
  {
   "cell_type": "code",
   "execution_count": 51,
   "id": "fd9cdfd5",
   "metadata": {},
   "outputs": [],
   "source": [
    "intersection_names = list(set(adata_subset.var_names).intersection(node_names))"
   ]
  },
  {
   "cell_type": "code",
   "execution_count": 52,
   "id": "0c21c6a7",
   "metadata": {},
   "outputs": [
    {
     "data": {
      "text/plain": [
       "7361"
      ]
     },
     "execution_count": 52,
     "metadata": {},
     "output_type": "execute_result"
    }
   ],
   "source": [
    "len(intersection_names)"
   ]
  },
  {
   "cell_type": "code",
   "execution_count": 53,
   "id": "2d805616",
   "metadata": {},
   "outputs": [],
   "source": [
    "# Take the subgraph restricted to nodes in the intersection\n",
    "kept_nodes = [k for k, v in grn.node_data().items() if v['name'] in intersection_names]"
   ]
  },
  {
   "cell_type": "code",
   "execution_count": 54,
   "id": "2f704492",
   "metadata": {},
   "outputs": [],
   "source": [
    "sub_grn = grn.to_digraph().subgraph(kept_nodes)"
   ]
  },
  {
   "cell_type": "code",
   "execution_count": 55,
   "id": "71ba4b00",
   "metadata": {},
   "outputs": [],
   "source": [
    "edges = list(sub_grn.edges())"
   ]
  },
  {
   "cell_type": "markdown",
   "id": "337f9f0e",
   "metadata": {},
   "source": [
    "## Subset adata and build GRN adjacency matrix"
   ]
  },
  {
   "cell_type": "code",
   "execution_count": 56,
   "id": "db81ba6d",
   "metadata": {},
   "outputs": [],
   "source": [
    "adata_subset = adata_subset[:, intersection_names]"
   ]
  },
  {
   "cell_type": "code",
   "execution_count": 57,
   "id": "2aef149e",
   "metadata": {},
   "outputs": [
    {
     "data": {
      "text/plain": [
       "View of AnnData object with n_obs × n_vars = 36013 × 7361\n",
       "    obs: 'gem_group', 'gene', 'gene_id', 'transcript', 'gene_transcript', 'sgID_AB', 'mitopercent', 'UMI_count', 'z_gemgroup_UMI', 'core_scale_factor', 'core_adjusted_UMI_count'\n",
       "    var: 'gene_name', 'chr', 'start', 'end', 'class', 'strand', 'length', 'in_matrix', 'mean', 'std', 'cv', 'fano'"
      ]
     },
     "execution_count": 57,
     "metadata": {},
     "output_type": "execute_result"
    }
   ],
   "source": [
    "adata_subset"
   ]
  },
  {
   "cell_type": "code",
   "execution_count": 58,
   "id": "7801c7f1",
   "metadata": {},
   "outputs": [],
   "source": [
    "grn_adj_mat = np.zeros((adata_subset.shape[1], adata_subset.shape[1]))"
   ]
  },
  {
   "cell_type": "code",
   "execution_count": 59,
   "id": "4090288b",
   "metadata": {},
   "outputs": [],
   "source": [
    "names_to_new_index = {n: i for i, n in enumerate(intersection_names)}"
   ]
  },
  {
   "cell_type": "code",
   "execution_count": 60,
   "id": "76b6fb12",
   "metadata": {},
   "outputs": [],
   "source": [
    "old_index_to_name = {k: v[\"name\"] for k, v in grn.node_data().items()}"
   ]
  },
  {
   "cell_type": "code",
   "execution_count": 61,
   "id": "e6f02162",
   "metadata": {},
   "outputs": [],
   "source": [
    "named_edges = [(old_index_to_name[x[0]], old_index_to_name[x[1]]) for x in edges]\n",
    "reindexed_edges = [(names_to_new_index[x[0]], names_to_new_index[x[1]]) for x in named_edges]"
   ]
  },
  {
   "cell_type": "code",
   "execution_count": 62,
   "id": "06b17abd",
   "metadata": {},
   "outputs": [
    {
     "data": {
      "text/plain": [
       "456670"
      ]
     },
     "execution_count": 62,
     "metadata": {},
     "output_type": "execute_result"
    }
   ],
   "source": [
    "len(reindexed_edges)"
   ]
  },
  {
   "cell_type": "code",
   "execution_count": 63,
   "id": "62ea725d",
   "metadata": {},
   "outputs": [],
   "source": [
    "# Build adjacency matrix of the GRN, in the order consistent with adata_subset\n",
    "for edge in reindexed_edges:\n",
    "    grn_adj_mat[edge[0], edge[1]] = 1"
   ]
  },
  {
   "cell_type": "code",
   "execution_count": 64,
   "id": "09b860ca",
   "metadata": {},
   "outputs": [],
   "source": [
    "adata_subset.varp[\"grn_adj_mat\"] = grn_adj_mat"
   ]
  },
  {
   "cell_type": "markdown",
   "id": "d07908b1",
   "metadata": {},
   "source": [
    "## Save"
   ]
  },
  {
   "cell_type": "code",
   "execution_count": 65,
   "id": "c5830c72",
   "metadata": {},
   "outputs": [],
   "source": [
    "adata_subset.write_h5ad(os.path.join(get_project_root(), \n",
    "                                     \"datasets/PerturbSeq/processed/\"\n",
    "                                     \"K562_gwps_normalized_singlecell_with_grn.h5ad\"))"
   ]
  },
  {
   "cell_type": "code",
   "execution_count": null,
   "id": "bc85228e",
   "metadata": {},
   "outputs": [],
   "source": []
  }
 ],
 "metadata": {
  "kernelspec": {
   "display_name": "Python 3 (ipykernel)",
   "language": "python",
   "name": "python3"
  },
  "language_info": {
   "codemirror_mode": {
    "name": "ipython",
    "version": 3
   },
   "file_extension": ".py",
   "mimetype": "text/x-python",
   "name": "python",
   "nbconvert_exporter": "python",
   "pygments_lexer": "ipython3",
   "version": "3.10.8"
  }
 },
 "nbformat": 4,
 "nbformat_minor": 5
}
