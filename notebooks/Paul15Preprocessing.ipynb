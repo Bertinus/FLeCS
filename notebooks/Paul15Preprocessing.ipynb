{
 "cells": [
  {
   "cell_type": "code",
   "execution_count": 1,
   "id": "8af73944",
   "metadata": {},
   "outputs": [],
   "source": [
    "import scanpy as sc\n",
    "import numpy as np\n",
    "import pandas as pd\n",
    "from flecs.utils import get_project_root\n",
    "import os"
   ]
  },
  {
   "cell_type": "markdown",
   "id": "1c44094e",
   "metadata": {},
   "source": [
    "## Load original data"
   ]
  },
  {
   "cell_type": "code",
   "execution_count": 2,
   "id": "a69b32b3",
   "metadata": {},
   "outputs": [],
   "source": [
    "adata = sc.read_csv(\n",
    "    os.path.join(get_project_root(), \"datasets\", \"Paul15\", \"GSE72857_umitab.txt\"), \n",
    "    delimiter=\"\\t\"\n",
    ").T\n",
    "\n",
    "exp_des = pd.read_csv(\n",
    "    os.path.join(get_project_root(), \"datasets\", \"Paul15\", \"GSE72857_experimental_design.txt\"), \n",
    "    skiprows=19, \n",
    "    sep=\"\\t\", \n",
    "    index_col=\"Well_ID\"\n",
    ")\n",
    "\n",
    "adata.obs = exp_des.loc[adata.obs.index]"
   ]
  },
  {
   "cell_type": "markdown",
   "id": "ea0c4a40",
   "metadata": {},
   "source": [
    "## Load Mouse ATACseq-derived GRN"
   ]
  },
  {
   "cell_type": "code",
   "execution_count": 3,
   "id": "de4a889d",
   "metadata": {},
   "outputs": [],
   "source": [
    "grn_df = pd.read_csv(\n",
    "    os.path.join(get_project_root(), \"datasets\", \"Paul15\", \"mouse_scATAC_atlas_base_GRN.csv\"), \n",
    "    index_col=0\n",
    ")"
   ]
  },
  {
   "cell_type": "markdown",
   "id": "ee667c7e",
   "metadata": {},
   "source": [
    "Extract all gene names from the grn"
   ]
  },
  {
   "cell_type": "code",
   "execution_count": 4,
   "id": "ce5aaf05",
   "metadata": {},
   "outputs": [],
   "source": [
    "# Let us first get the TFs\n",
    "all_grn_tfs = list(grn_df.columns[2:])\n",
    "\n",
    "# Second let us get the other genes\n",
    "all_grn_other_genes = grn_df[\"gene_short_name\"].tolist()\n",
    "\n",
    "all_grn_genes = np.unique(all_grn_tfs + all_grn_other_genes)"
   ]
  },
  {
   "cell_type": "markdown",
   "id": "3e017be0",
   "metadata": {},
   "source": [
    "## Map GRN gene names to the variable names in the adata"
   ]
  },
  {
   "cell_type": "code",
   "execution_count": 5,
   "id": "54431b35",
   "metadata": {},
   "outputs": [],
   "source": [
    "def find_match(grn_gene, var_names):\n",
    "    match_list = [variable_name for variable_name in var_names if grn_gene.lower() in variable_name.lower()]\n",
    "    \n",
    "    if len(match_list) == 1:\n",
    "        return match_list[0]\n",
    "    else:\n",
    "        return -1\n"
   ]
  },
  {
   "cell_type": "code",
   "execution_count": null,
   "id": "356d137a",
   "metadata": {},
   "outputs": [],
   "source": [
    "var_names = list(adata.var.index)\n",
    "grn_genes_to_var_match_unfiltered = {grn_gene: find_match(grn_gene, var_names) for grn_gene in all_grn_genes}\n",
    "\n",
    "# Remove the grn genes that have not been mapped\n",
    "grn_genes_to_var_match_unfiltered = {k: v for k, v in grn_genes_to_var_match_unfiltered.items() if v != -1}\n",
    "\n",
    "# Drop duplicate values (several GRN genes may map to the same var)\n",
    "grn_genes_to_var_match = {}\n",
    "for k, v in grn_genes_to_var_match_unfiltered.items():\n",
    "    if v not in grn_genes_to_var_match.values():\n",
    "        grn_genes_to_var_match[k] = v"
   ]
  },
  {
   "cell_type": "markdown",
   "id": "0ee1b250",
   "metadata": {},
   "source": [
    "## Subset adata and build GRN adjacency matrix"
   ]
  },
  {
   "cell_type": "code",
   "execution_count": null,
   "id": "3152774a",
   "metadata": {},
   "outputs": [],
   "source": [
    "all_keys_list = list(grn_genes_to_var_match.keys())\n",
    "grn_genes_to_idx = {all_keys_list[i]: i for i in range(len(all_keys_list))}"
   ]
  },
  {
   "cell_type": "code",
   "execution_count": null,
   "id": "727a4b73",
   "metadata": {},
   "outputs": [],
   "source": [
    "adata_subset = adata[:, list(grn_genes_to_var_match.values())].copy()"
   ]
  },
  {
   "cell_type": "code",
   "execution_count": null,
   "id": "75cf5e6c",
   "metadata": {},
   "outputs": [],
   "source": [
    "grn_adj_mat = np.zeros((adata_subset.shape[1], adata_subset.shape[1]))"
   ]
  },
  {
   "cell_type": "code",
   "execution_count": null,
   "id": "853a577c",
   "metadata": {},
   "outputs": [],
   "source": [
    "# Build adjacency matrix of the GRN, in the order consistent with adata_subset\n",
    "mapped_grn_tfs = [tf for tf in all_grn_tfs if tf in grn_genes_to_var_match.keys()]\n",
    "\n",
    "for tf in mapped_grn_tfs:\n",
    "    targeted_genes = grn_df[grn_df[tf] == 1][\"gene_short_name\"].unique()\n",
    "    mapped_targeted_genes = [gene for gene in targeted_genes if gene in grn_genes_to_var_match.keys()]\n",
    "    target_indices = [grn_genes_to_idx[gene] for gene in mapped_targeted_genes]\n",
    "    grn_adj_mat[grn_genes_to_idx[tf], target_indices] = 1"
   ]
  },
  {
   "cell_type": "code",
   "execution_count": null,
   "id": "dbf3115b",
   "metadata": {},
   "outputs": [],
   "source": [
    "adata_subset.varp[\"grn_adj_mat\"] = grn_adj_mat"
   ]
  },
  {
   "cell_type": "markdown",
   "id": "cdc3bb1f",
   "metadata": {},
   "source": [
    "## Save"
   ]
  },
  {
   "cell_type": "code",
   "execution_count": null,
   "id": "9fd1c9e5",
   "metadata": {},
   "outputs": [],
   "source": [
    "adata_subset.write_h5ad(os.path.join(get_project_root(), \n",
    "                                     \"datasets\", \"Paul15\", \"processed\", \"paul15_with_mouse_grn.h5ad\")\n",
    "                       )"
   ]
  }
 ],
 "metadata": {
  "kernelspec": {
   "display_name": "Python 3 (ipykernel)",
   "language": "python",
   "name": "python3"
  },
  "language_info": {
   "codemirror_mode": {
    "name": "ipython",
    "version": 3
   },
   "file_extension": ".py",
   "mimetype": "text/x-python",
   "name": "python",
   "nbconvert_exporter": "python",
   "pygments_lexer": "ipython3",
   "version": "3.10.8"
  }
 },
 "nbformat": 4,
 "nbformat_minor": 5
}
