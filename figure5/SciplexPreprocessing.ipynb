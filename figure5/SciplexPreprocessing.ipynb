{
 "cells": [
  {
   "cell_type": "code",
   "execution_count": 1,
   "id": "f3043a6d",
   "metadata": {},
   "outputs": [],
   "source": [
    "import scanpy as sc\n",
    "import numpy as np\n",
    "from flecs.utils import get_project_root\n",
    "from flecs.data.utils import load_interaction_data\n",
    "import mygene\n",
    "from tqdm import tqdm\n",
    "import os"
   ]
  },
  {
   "cell_type": "markdown",
   "id": "6e67c566",
   "metadata": {},
   "source": [
    "## Load original data"
   ]
  },
  {
   "cell_type": "code",
   "execution_count": 2,
   "id": "89b16002",
   "metadata": {},
   "outputs": [],
   "source": [
    "adata = sc.read_h5ad(\"/Users/paul/PycharmProjects/FLeCS/datasets/Sciplex3/SrivatsanTrapnell2020_sciplex3.h5ad\")"
   ]
  },
  {
   "cell_type": "code",
   "execution_count": 3,
   "id": "d5ca2d95",
   "metadata": {},
   "outputs": [
    {
     "data": {
      "text/plain": [
       "AnnData object with n_obs × n_vars = 799317 × 110984\n",
       "    obs: 'ncounts', 'well', 'plate', 'cell_line', 'replicate', 'time', 'dose_value', 'pathway_level_1', 'pathway_level_2', 'perturbation', 'target', 'pathway', 'dose_unit', 'celltype', 'disease', 'cancer', 'tissue_type', 'organism', 'perturbation_type', 'ngenes', 'percent_mito', 'percent_ribo', 'nperts', 'chembl-ID'\n",
       "    var: 'ensembl_id', 'ncounts', 'ncells'"
      ]
     },
     "execution_count": 3,
     "metadata": {},
     "output_type": "execute_result"
    }
   ],
   "source": [
    "adata"
   ]
  },
  {
   "cell_type": "markdown",
   "id": "523a99b7",
   "metadata": {},
   "source": [
    "## Filter rows and columns"
   ]
  },
  {
   "cell_type": "code",
   "execution_count": 4,
   "id": "e1f9d60c",
   "metadata": {},
   "outputs": [],
   "source": [
    "adata = adata[adata.obs[\"cell_line\"] == 'A549', \n",
    "              adata.var[\"ensembl_id\"].apply(lambda x: x.startswith(\"ENSG\"))].copy()\n",
    "\n",
    "adata = adata[adata.obs[\"replicate\"] == 'rep1'].copy()\n",
    "adata = adata[adata.obs[\"dose_value\"].apply(lambda d: d==10000. or d==0.)].copy()"
   ]
  },
  {
   "cell_type": "code",
   "execution_count": 5,
   "id": "30f51615",
   "metadata": {},
   "outputs": [
    {
     "data": {
      "text/plain": [
       "AnnData object with n_obs × n_vars = 25581 × 58347\n",
       "    obs: 'ncounts', 'well', 'plate', 'cell_line', 'replicate', 'time', 'dose_value', 'pathway_level_1', 'pathway_level_2', 'perturbation', 'target', 'pathway', 'dose_unit', 'celltype', 'disease', 'cancer', 'tissue_type', 'organism', 'perturbation_type', 'ngenes', 'percent_mito', 'percent_ribo', 'nperts', 'chembl-ID'\n",
       "    var: 'ensembl_id', 'ncounts', 'ncells'"
      ]
     },
     "execution_count": 5,
     "metadata": {},
     "output_type": "execute_result"
    }
   ],
   "source": [
    "adata"
   ]
  },
  {
   "cell_type": "code",
   "execution_count": 6,
   "id": "5addd794",
   "metadata": {},
   "outputs": [
    {
     "name": "stdout",
     "output_type": "stream",
     "text": [
      "querying 1-1000...done.\n",
      "querying 1001-2000...done.\n",
      "querying 2001-3000...done.\n",
      "querying 3001-4000...done.\n",
      "querying 4001-5000...done.\n",
      "querying 5001-6000...done.\n",
      "querying 6001-7000...done.\n",
      "querying 7001-8000...done.\n",
      "querying 8001-9000...done.\n",
      "querying 9001-10000...done.\n",
      "querying 10001-11000...done.\n",
      "querying 11001-12000...done.\n",
      "querying 12001-13000...done.\n",
      "querying 13001-14000...done.\n",
      "querying 14001-15000...done.\n",
      "querying 15001-16000...done.\n",
      "querying 16001-17000...done.\n",
      "querying 17001-18000...done.\n",
      "querying 18001-19000...done.\n",
      "querying 19001-20000...done.\n",
      "querying 20001-21000...done.\n",
      "querying 21001-22000...done.\n",
      "querying 22001-23000...done.\n",
      "querying 23001-24000...done.\n",
      "querying 24001-25000...done.\n",
      "querying 25001-26000...done.\n",
      "querying 26001-27000...done.\n",
      "querying 27001-28000...done.\n",
      "querying 28001-29000...done.\n",
      "querying 29001-30000...done.\n",
      "querying 30001-31000...done.\n",
      "querying 31001-32000...done.\n",
      "querying 32001-33000...done.\n",
      "querying 33001-34000...done.\n",
      "querying 34001-35000...done.\n",
      "querying 35001-36000...done.\n",
      "querying 36001-37000...done.\n",
      "querying 37001-38000...done.\n",
      "querying 38001-39000...done.\n",
      "querying 39001-40000...done.\n",
      "querying 40001-41000...done.\n",
      "querying 41001-42000...done.\n",
      "querying 42001-43000...done.\n",
      "querying 43001-44000...done.\n",
      "querying 44001-45000...done.\n",
      "querying 45001-46000...done.\n",
      "querying 46001-47000...done.\n",
      "querying 47001-48000...done.\n",
      "querying 48001-49000...done.\n",
      "querying 49001-50000...done.\n",
      "querying 50001-51000...done.\n",
      "querying 51001-52000...done.\n",
      "querying 52001-53000...done.\n",
      "querying 53001-54000...done.\n",
      "querying 54001-55000...done.\n",
      "querying 55001-56000...done.\n",
      "querying 56001-57000...done.\n",
      "querying 57001-58000...done.\n",
      "querying 58001-58347...done.\n",
      "Finished.\n",
      "74 input query terms found dup hits:\n",
      "\t[('ENSG00000002586', 2), ('ENSG00000124333', 2), ('ENSG00000124334', 2), ('ENSG00000167393', 2), ('E\n",
      "1596 input query terms found no hit:\n",
      "\t['ENSG00000069712', 'ENSG00000112096', 'ENSG00000116883', 'ENSG00000116957', 'ENSG00000130489', 'ENS\n",
      "Pass \"returnall=True\" to return complete lists of duplicate or missing query terms.\n"
     ]
    }
   ],
   "source": [
    "mg = mygene.MyGeneInfo()\n",
    "geneSyms = mg.querymany(list(adata.var[\"ensembl_id\"]) , scopes='ensembl.gene', fields='symbol', species='human')"
   ]
  },
  {
   "cell_type": "code",
   "execution_count": 7,
   "id": "bdd8ddec",
   "metadata": {},
   "outputs": [
    {
     "data": {
      "text/plain": [
       "58402"
      ]
     },
     "execution_count": 7,
     "metadata": {},
     "output_type": "execute_result"
    }
   ],
   "source": [
    "len(['symbol' in d.keys() for d in geneSyms])"
   ]
  },
  {
   "cell_type": "code",
   "execution_count": 8,
   "id": "b80db733",
   "metadata": {},
   "outputs": [
    {
     "data": {
      "text/plain": [
       "44365"
      ]
     },
     "execution_count": 8,
     "metadata": {},
     "output_type": "execute_result"
    }
   ],
   "source": [
    "sum(['symbol' in d.keys() for d in geneSyms])"
   ]
  },
  {
   "cell_type": "code",
   "execution_count": 9,
   "id": "3d80c546",
   "metadata": {},
   "outputs": [],
   "source": [
    "ensembl_to_symbol_dict = {d['query']: d['symbol'] for d in geneSyms if 'symbol' in d.keys()}"
   ]
  },
  {
   "cell_type": "code",
   "execution_count": 10,
   "id": "c08c9fa6",
   "metadata": {},
   "outputs": [
    {
     "data": {
      "text/plain": [
       "44271"
      ]
     },
     "execution_count": 10,
     "metadata": {},
     "output_type": "execute_result"
    }
   ],
   "source": [
    "len(ensembl_to_symbol_dict)"
   ]
  },
  {
   "cell_type": "code",
   "execution_count": 11,
   "id": "53a92ad9",
   "metadata": {},
   "outputs": [
    {
     "data": {
      "text/plain": [
       "43229"
      ]
     },
     "execution_count": 11,
     "metadata": {},
     "output_type": "execute_result"
    }
   ],
   "source": [
    "len(np.unique(list(ensembl_to_symbol_dict.values())))"
   ]
  },
  {
   "cell_type": "code",
   "execution_count": 12,
   "id": "cf5377cd",
   "metadata": {},
   "outputs": [],
   "source": [
    "adata.var[\"symbol\"] = adata.var[\"ensembl_id\"].apply(lambda x: ensembl_to_symbol_dict[x] \n",
    "                                                    if x in ensembl_to_symbol_dict.keys() else \"\")"
   ]
  },
  {
   "cell_type": "code",
   "execution_count": 13,
   "id": "4e6f14ed",
   "metadata": {},
   "outputs": [
    {
     "data": {
      "text/plain": [
       "AnnData object with n_obs × n_vars = 25581 × 58347\n",
       "    obs: 'ncounts', 'well', 'plate', 'cell_line', 'replicate', 'time', 'dose_value', 'pathway_level_1', 'pathway_level_2', 'perturbation', 'target', 'pathway', 'dose_unit', 'celltype', 'disease', 'cancer', 'tissue_type', 'organism', 'perturbation_type', 'ngenes', 'percent_mito', 'percent_ribo', 'nperts', 'chembl-ID'\n",
       "    var: 'ensembl_id', 'ncounts', 'ncells', 'symbol'"
      ]
     },
     "execution_count": 13,
     "metadata": {},
     "output_type": "execute_result"
    }
   ],
   "source": [
    "adata"
   ]
  },
  {
   "cell_type": "code",
   "execution_count": 14,
   "id": "38810449",
   "metadata": {},
   "outputs": [],
   "source": [
    "adata = adata[:, (~adata.var[\"symbol\"].duplicated()) & (adata.var[\"symbol\"] != \"\")].copy()"
   ]
  },
  {
   "cell_type": "code",
   "execution_count": 15,
   "id": "be9797c7",
   "metadata": {},
   "outputs": [],
   "source": [
    "adata.var.set_index(\"symbol\", inplace=True)"
   ]
  },
  {
   "cell_type": "markdown",
   "id": "419d1ce4",
   "metadata": {},
   "source": [
    "## Load A549 GRN"
   ]
  },
  {
   "cell_type": "code",
   "execution_count": 16,
   "id": "fd2a5ede",
   "metadata": {},
   "outputs": [],
   "source": [
    "grn = load_interaction_data(interaction_type=\"fantom5\", realnet_tissue_type_file=\"17_adenocarcinoma.txt.gz\")"
   ]
  },
  {
   "cell_type": "code",
   "execution_count": 17,
   "id": "a39a9ad1",
   "metadata": {},
   "outputs": [
    {
     "data": {
      "text/plain": [
       "InteractionData. 14373 nodes and 1542735 edges.\n",
       "2 different types of nodes: ['TF_gene', 'gene'].\n",
       "gene       13730\n",
       "TF_gene      643\n",
       "2 different types of edges: [('TF_gene', '', 'gene'), ('TF_gene', '', 'TF_gene')].\n",
       "    1542735"
      ]
     },
     "execution_count": 17,
     "metadata": {},
     "output_type": "execute_result"
    }
   ],
   "source": [
    "grn"
   ]
  },
  {
   "cell_type": "code",
   "execution_count": 18,
   "id": "b13b0690",
   "metadata": {},
   "outputs": [],
   "source": [
    "node_names = [v['name'] for v in grn.node_data().values()]"
   ]
  },
  {
   "cell_type": "code",
   "execution_count": 19,
   "id": "0ddf635d",
   "metadata": {},
   "outputs": [
    {
     "data": {
      "text/plain": [
       "14373"
      ]
     },
     "execution_count": 19,
     "metadata": {},
     "output_type": "execute_result"
    }
   ],
   "source": [
    "len(node_names)"
   ]
  },
  {
   "cell_type": "code",
   "execution_count": 20,
   "id": "0803926c",
   "metadata": {},
   "outputs": [
    {
     "data": {
      "text/plain": [
       "14373"
      ]
     },
     "execution_count": 20,
     "metadata": {},
     "output_type": "execute_result"
    }
   ],
   "source": [
    "len(np.unique(node_names))"
   ]
  },
  {
   "cell_type": "markdown",
   "id": "55beb0f6",
   "metadata": {},
   "source": [
    "## Map GRN gene names to the variable names in the adata"
   ]
  },
  {
   "cell_type": "code",
   "execution_count": 21,
   "id": "b30eb0e5",
   "metadata": {},
   "outputs": [],
   "source": [
    "intersection_names = list(set(adata.var.index).intersection(node_names))"
   ]
  },
  {
   "cell_type": "code",
   "execution_count": 22,
   "id": "48db07e8",
   "metadata": {},
   "outputs": [
    {
     "data": {
      "text/plain": [
       "13283"
      ]
     },
     "execution_count": 22,
     "metadata": {},
     "output_type": "execute_result"
    }
   ],
   "source": [
    "len(intersection_names)"
   ]
  },
  {
   "cell_type": "code",
   "execution_count": 23,
   "id": "114556bd",
   "metadata": {},
   "outputs": [],
   "source": [
    "# Take the subgraph restricted to nodes in the intersection\n",
    "kept_nodes = [k for k, v in grn.node_data().items() if v['name'] in intersection_names]"
   ]
  },
  {
   "cell_type": "code",
   "execution_count": 24,
   "id": "6711355f",
   "metadata": {},
   "outputs": [],
   "source": [
    "sub_grn = grn.to_digraph().subgraph(kept_nodes)"
   ]
  },
  {
   "cell_type": "code",
   "execution_count": 25,
   "id": "e24ef0f3",
   "metadata": {},
   "outputs": [
    {
     "data": {
      "text/plain": [
       "13283"
      ]
     },
     "execution_count": 25,
     "metadata": {},
     "output_type": "execute_result"
    }
   ],
   "source": [
    "sub_grn.number_of_nodes()"
   ]
  },
  {
   "cell_type": "code",
   "execution_count": 26,
   "id": "2cd758a8",
   "metadata": {},
   "outputs": [],
   "source": [
    "edges = list(sub_grn.edges())"
   ]
  },
  {
   "cell_type": "markdown",
   "id": "5656af34",
   "metadata": {},
   "source": [
    "## Subset adata and build GRN adjacency matrix"
   ]
  },
  {
   "cell_type": "code",
   "execution_count": 27,
   "id": "3294d854",
   "metadata": {},
   "outputs": [],
   "source": [
    "adata_subset = adata[:, intersection_names]"
   ]
  },
  {
   "cell_type": "code",
   "execution_count": 28,
   "id": "5a5b244b",
   "metadata": {},
   "outputs": [
    {
     "data": {
      "text/plain": [
       "View of AnnData object with n_obs × n_vars = 25581 × 13283\n",
       "    obs: 'ncounts', 'well', 'plate', 'cell_line', 'replicate', 'time', 'dose_value', 'pathway_level_1', 'pathway_level_2', 'perturbation', 'target', 'pathway', 'dose_unit', 'celltype', 'disease', 'cancer', 'tissue_type', 'organism', 'perturbation_type', 'ngenes', 'percent_mito', 'percent_ribo', 'nperts', 'chembl-ID'\n",
       "    var: 'ensembl_id', 'ncounts', 'ncells'"
      ]
     },
     "execution_count": 28,
     "metadata": {},
     "output_type": "execute_result"
    }
   ],
   "source": [
    "adata_subset"
   ]
  },
  {
   "cell_type": "code",
   "execution_count": 29,
   "id": "c9f664d4",
   "metadata": {},
   "outputs": [],
   "source": [
    "grn_adj_mat = np.zeros((adata_subset.shape[1], adata_subset.shape[1]))"
   ]
  },
  {
   "cell_type": "code",
   "execution_count": 30,
   "id": "9ffd91b2",
   "metadata": {},
   "outputs": [],
   "source": [
    "names_to_new_index = {n: i for i, n in enumerate(intersection_names)}"
   ]
  },
  {
   "cell_type": "code",
   "execution_count": 31,
   "id": "edf01dd4",
   "metadata": {},
   "outputs": [],
   "source": [
    "old_index_to_name = {k: v[\"name\"] for k, v in grn.node_data().items()}"
   ]
  },
  {
   "cell_type": "code",
   "execution_count": 32,
   "id": "ea48913e",
   "metadata": {},
   "outputs": [],
   "source": [
    "named_edges = [(old_index_to_name[x[0]], old_index_to_name[x[1]]) for x in edges]\n",
    "reindexed_edges = [(names_to_new_index[x[0]], names_to_new_index[x[1]]) for x in named_edges]"
   ]
  },
  {
   "cell_type": "code",
   "execution_count": 33,
   "id": "60aaeb5e",
   "metadata": {},
   "outputs": [
    {
     "data": {
      "text/plain": [
       "1288885"
      ]
     },
     "execution_count": 33,
     "metadata": {},
     "output_type": "execute_result"
    }
   ],
   "source": [
    "len(reindexed_edges)"
   ]
  },
  {
   "cell_type": "code",
   "execution_count": 34,
   "id": "f5acc5a6",
   "metadata": {},
   "outputs": [],
   "source": [
    "# Build adjacency matrix of the GRN, in the order consistent with adata_subset\n",
    "for edge in reindexed_edges:\n",
    "    grn_adj_mat[edge[0], edge[1]] = 1"
   ]
  },
  {
   "cell_type": "code",
   "execution_count": 35,
   "id": "d2ec79f0",
   "metadata": {},
   "outputs": [],
   "source": [
    "adata_subset.varp[\"grn_adj_mat\"] = grn_adj_mat"
   ]
  },
  {
   "cell_type": "code",
   "execution_count": 37,
   "id": "896acb86",
   "metadata": {},
   "outputs": [
    {
     "data": {
      "text/plain": [
       "0.007305026977479903"
      ]
     },
     "execution_count": 37,
     "metadata": {},
     "output_type": "execute_result"
    }
   ],
   "source": [
    "np.sum(grn_adj_mat) / (grn_adj_mat.shape[0]**2)"
   ]
  },
  {
   "cell_type": "markdown",
   "id": "382d9201",
   "metadata": {},
   "source": [
    "## Save"
   ]
  },
  {
   "cell_type": "code",
   "execution_count": 36,
   "id": "adab1af2",
   "metadata": {},
   "outputs": [],
   "source": [
    "adata_subset.write_h5ad(os.path.join(get_project_root(), \n",
    "                                     \"datasets/Sciplex3/processed/SrivatsanTrapnell2020_sciplex3_with_grn.h5ad\"))"
   ]
  }
 ],
 "metadata": {
  "kernelspec": {
   "display_name": "Python 3 (ipykernel)",
   "language": "python",
   "name": "python3"
  },
  "language_info": {
   "codemirror_mode": {
    "name": "ipython",
    "version": 3
   },
   "file_extension": ".py",
   "mimetype": "text/x-python",
   "name": "python",
   "nbconvert_exporter": "python",
   "pygments_lexer": "ipython3",
   "version": "3.10.8"
  }
 },
 "nbformat": 4,
 "nbformat_minor": 5
}
