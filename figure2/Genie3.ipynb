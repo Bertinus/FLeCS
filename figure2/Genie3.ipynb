{
 "cells": [
  {
   "cell_type": "code",
   "execution_count": 1,
   "id": "c8b4994c",
   "metadata": {},
   "outputs": [],
   "source": [
    "import scanpy as sc\n",
    "import os\n",
    "from flecs.utils import get_project_root\n",
    "import numpy as np\n",
    "from operator import itemgetter\n",
    "import pandas as pd"
   ]
  },
  {
   "cell_type": "markdown",
   "id": "16b6298a",
   "metadata": {},
   "source": [
    "## Load"
   ]
  },
  {
   "cell_type": "code",
   "execution_count": 2,
   "id": "436cb40e",
   "metadata": {},
   "outputs": [
    {
     "name": "stderr",
     "output_type": "stream",
     "text": [
      "/Users/paul/miniconda3/envs/flecs/lib/python3.10/site-packages/anndata/_core/anndata.py:121: ImplicitModificationWarning: Transforming to str index.\n",
      "  warnings.warn(\"Transforming to str index.\", ImplicitModificationWarning)\n"
     ]
    }
   ],
   "source": [
    "adata = sc.read_h5ad(os.path.join(get_project_root(), \"figure2\", \"processed\", \"adata_processed_with_paths_magic.h5ad\"))"
   ]
  },
  {
   "cell_type": "code",
   "execution_count": 3,
   "id": "c3a293f6",
   "metadata": {},
   "outputs": [],
   "source": [
    "gene_name_list = list(adata.var.index)"
   ]
  },
  {
   "cell_type": "markdown",
   "id": "7fdff047",
   "metadata": {},
   "source": [
    "## Genie3"
   ]
  },
  {
   "cell_type": "markdown",
   "id": "36451017",
   "metadata": {},
   "source": [
    "source: https://github.com/vahuynh/GENIE3/blob/master/GENIE3_python/GENIE3.py "
   ]
  },
  {
   "cell_type": "code",
   "execution_count": 4,
   "id": "8aafd5f3",
   "metadata": {},
   "outputs": [],
   "source": [
    "def get_link_list(VIM):\n",
    "        \n",
    "    ngenes = VIM.shape[0]\n",
    "    input_idx = range(ngenes)\n",
    "\n",
    "    # Get the non-ranked list of regulatory links\n",
    "    vInter = [(i,j,score) for (i,j),score in np.ndenumerate(VIM) if i in input_idx and i!=j]\n",
    "    \n",
    "    # Rank the list according to the weights of the edges        \n",
    "    vInter_sort = sorted(vInter,key=itemgetter(2),reverse=True)\n",
    "    nInter = len(vInter_sort)\n",
    "\n",
    "    return vInter_sort\n"
   ]
  },
  {
   "cell_type": "code",
   "execution_count": 5,
   "id": "3fc3eaf3",
   "metadata": {},
   "outputs": [],
   "source": [
    "def extract_most_affected_genes(link_list, target_len):\n",
    "\n",
    "    n_top_edges = target_len // 2\n",
    "    genes_most_affected = [t[0] for t in link_list[:n_top_edges]] + [t[1] for t in link_list[:n_top_edges]]\n",
    "    while len(np.unique(genes_most_affected)) < target_len:\n",
    "        n_top_edges += 1\n",
    "        genes_most_affected = [t[0] for t in link_list[:n_top_edges]] + [t[1] for t in link_list[:n_top_edges]]\n",
    "\n",
    "    genes_most_affected = list(pd.DataFrame(genes_most_affected).value_counts().index)[:target_len]\n",
    "    genes_most_affected = [g[0] for g in genes_most_affected]\n",
    "\n",
    "    return genes_most_affected"
   ]
  },
  {
   "cell_type": "code",
   "execution_count": 6,
   "id": "7f91ae01",
   "metadata": {},
   "outputs": [],
   "source": [
    "def save_most_affected_genes(res, file_name):\n",
    "    link_list = get_link_list(res)\n",
    "    most_affected_gene_idx = extract_most_affected_genes(link_list, 33)\n",
    "\n",
    "    # Retrieve gene names\n",
    "    most_affected_gene_names = [gene_name_list[idx] for idx in most_affected_gene_idx]\n",
    "\n",
    "    # Save\n",
    "    with open(file_name, 'w') as f:\n",
    "        for gene in most_affected_gene_names:\n",
    "            f.write(f\"{gene}\\n\")"
   ]
  },
  {
   "cell_type": "markdown",
   "id": "6f478b1e",
   "metadata": {},
   "source": [
    "## Evaluation"
   ]
  },
  {
   "cell_type": "code",
   "execution_count": 7,
   "id": "4b9c3c9a",
   "metadata": {},
   "outputs": [],
   "source": [
    "genie3_res_unsorted = np.load(os.path.join(get_project_root(), \"figure2\", \"processed\", \"genie3_res_unsorted.npy\"))\n",
    "genie3_res_cebpa = np.load(os.path.join(get_project_root(), \"figure2\", \"processed\", \"genie3_res_cebpa.npy\"))\n",
    "genie3_res_cebpe = np.load(os.path.join(get_project_root(), \"figure2\", \"processed\", \"genie3_res_cebpe.npy\"))\n"
   ]
  },
  {
   "cell_type": "code",
   "execution_count": 8,
   "id": "909a5ca0",
   "metadata": {},
   "outputs": [],
   "source": [
    "save_most_affected_genes(genie3_res_unsorted, 'genie3_affected_genes_unsorted.txt')\n",
    "save_most_affected_genes(genie3_res_cebpa, 'genie3_affected_genes_cebpa.txt')\n",
    "save_most_affected_genes(genie3_res_cebpe, 'genie3_affected_genes_cebpe.txt')"
   ]
  },
  {
   "cell_type": "code",
   "execution_count": 8,
   "id": "4383a3f6",
   "metadata": {},
   "outputs": [],
   "source": [
    "genie3_grn_res_unsorted = np.load(os.path.join(get_project_root(), \"figure2\", \"processed\", \"genie3_grn_res_unsorted.npy\"))\n",
    "genie3_grn_res_cebpa = np.load(os.path.join(get_project_root(), \"figure2\", \"processed\", \"genie3_grn_res_cebpa.npy\"))\n",
    "genie3_grn_res_cebpe = np.load(os.path.join(get_project_root(), \"figure2\", \"processed\", \"genie3_grn_res_cebpe.npy\"))"
   ]
  },
  {
   "cell_type": "code",
   "execution_count": 10,
   "id": "53a9c78b",
   "metadata": {},
   "outputs": [],
   "source": [
    "save_most_affected_genes(genie3_grn_res_unsorted, 'genie3_grn_affected_genes_unsorted.txt')\n",
    "save_most_affected_genes(genie3_grn_res_cebpa, 'genie3_grn_affected_genes_cebpa.txt')\n",
    "save_most_affected_genes(genie3_grn_res_cebpe, 'genie3_grn_affected_genes_cebpe.txt')"
   ]
  },
  {
   "cell_type": "markdown",
   "id": "eb69bc02",
   "metadata": {},
   "source": [
    "## Differences"
   ]
  },
  {
   "cell_type": "code",
   "execution_count": 9,
   "id": "29d81049",
   "metadata": {},
   "outputs": [],
   "source": [
    "affected_cebpa_adj_mat = np.abs(genie3_res_unsorted - genie3_res_cebpa)\n",
    "affected_cebpe_adj_mat = np.abs(genie3_res_unsorted - genie3_res_cebpe)"
   ]
  },
  {
   "cell_type": "code",
   "execution_count": 10,
   "id": "dd8ad085",
   "metadata": {},
   "outputs": [],
   "source": [
    "save_most_affected_genes(affected_cebpa_adj_mat, 'genie3_difference_affected_genes_cebpa.txt')\n",
    "save_most_affected_genes(affected_cebpe_adj_mat, 'genie3_difference_affected_genes_cebpe.txt')"
   ]
  },
  {
   "cell_type": "code",
   "execution_count": 11,
   "id": "5857a246",
   "metadata": {},
   "outputs": [],
   "source": [
    "affected_cebpa_grn_adj_mat = np.abs(genie3_grn_res_unsorted - genie3_grn_res_cebpa)\n",
    "affected_cebpe_grn_adj_mat = np.abs(genie3_grn_res_unsorted - genie3_grn_res_cebpe)"
   ]
  },
  {
   "cell_type": "code",
   "execution_count": 12,
   "id": "0aa8aabd",
   "metadata": {},
   "outputs": [],
   "source": [
    "save_most_affected_genes(affected_cebpa_grn_adj_mat, 'genie3_difference_grn_affected_genes_cebpa.txt')\n",
    "save_most_affected_genes(affected_cebpe_grn_adj_mat, 'genie3_difference_grn_affected_genes_cebpe.txt')"
   ]
  },
  {
   "cell_type": "code",
   "execution_count": null,
   "id": "3de7d4d5",
   "metadata": {},
   "outputs": [],
   "source": []
  }
 ],
 "metadata": {
  "kernelspec": {
   "display_name": "Python 3 (ipykernel)",
   "language": "python",
   "name": "python3"
  },
  "language_info": {
   "codemirror_mode": {
    "name": "ipython",
    "version": 3
   },
   "file_extension": ".py",
   "mimetype": "text/x-python",
   "name": "python",
   "nbconvert_exporter": "python",
   "pygments_lexer": "ipython3",
   "version": "3.10.8"
  }
 },
 "nbformat": 4,
 "nbformat_minor": 5
}
